{
 "cells": [
  {
   "cell_type": "code",
   "execution_count": 92,
   "id": "85c6860e",
   "metadata": {},
   "outputs": [
    {
     "name": "stdout",
     "output_type": "stream",
     "text": [
      "\n"
     ]
    }
   ],
   "source": [
    "# Write a code to create a string with your name and print it\n",
    "String_name  =\"enter your name\"\n",
    "user_input_str_name = input(\"please enter your name: \")\n",
    "print(user_input_str_name)\n",
    "\n"
   ]
  },
  {
   "cell_type": "code",
   "execution_count": 93,
   "id": "32a424c8",
   "metadata": {},
   "outputs": [
    {
     "name": "stdout",
     "output_type": "stream",
     "text": [
      "the length of String_name is:11\n"
     ]
    }
   ],
   "source": [
    "#Write a code to find the length of the string \"Hello World\"\n",
    "String_name = \"Hello World\"\n",
    "length_of_string=len(String_name)\n",
    "print(f\"the length of String_name is:{length_of_string}\")  \n"
   ]
  },
  {
   "cell_type": "code",
   "execution_count": 94,
   "id": "ce19b29c",
   "metadata": {},
   "outputs": [
    {
     "name": "stdout",
     "output_type": "stream",
     "text": [
      "first 3 character of slice letter: Hel\n"
     ]
    }
   ],
   "source": [
    "#Write a code to slice the first 3 characters from the string \"Python Programming\"\n",
    "string_name=\"Hello World\"\n",
    "slice=string_name[0:3]\n",
    "print(f\"first 3 character of slice letter: {slice}\")\n"
   ]
  },
  {
   "cell_type": "code",
   "execution_count": 95,
   "id": "9f9705de",
   "metadata": {},
   "outputs": [
    {
     "name": "stdout",
     "output_type": "stream",
     "text": [
      "the upper case letter of string is HELLO\n"
     ]
    }
   ],
   "source": [
    "#Write a code to convert the string \"hello\" to uppercase\n",
    "string_name=\"hello\"\n",
    "string_name=string_name.upper()\n",
    "print(f\"the upper case letter of string is {string_name}\")\n",
    "\n"
   ]
  },
  {
   "cell_type": "code",
   "execution_count": 96,
   "id": "390c91dc",
   "metadata": {},
   "outputs": [
    {
     "name": "stdout",
     "output_type": "stream",
     "text": [
      "the replace string name is I like ornage\n"
     ]
    }
   ],
   "source": [
    "string_name=\"I like apple\"\n",
    "old_String=\"apple\"\n",
    "new_string=\"ornage\"\n",
    "string_name=string_name.replace(old_String,new_string)\n",
    "print(f\"the replace string name is {string_name}\")"
   ]
  },
  {
   "cell_type": "code",
   "execution_count": 97,
   "id": "9bc4bc9a",
   "metadata": {},
   "outputs": [
    {
     "name": "stdout",
     "output_type": "stream",
     "text": [
      "[1, 2, 3, 4, 5]\n"
     ]
    }
   ],
   "source": [
    "#) Write a code to create a list with numbers 1 to 5 and print it\n",
    "\n",
    "list=[1,2,3,4,5]\n",
    "print(list)\n"
   ]
  },
  {
   "cell_type": "code",
   "execution_count": 98,
   "id": "b84ceb2a",
   "metadata": {},
   "outputs": [
    {
     "name": "stdout",
     "output_type": "stream",
     "text": [
      "[1, 2, 3, 4, 10]\n"
     ]
    }
   ],
   "source": [
    "#Write a code to append the number 10 to the list [1, 2, 3, 4]\n",
    "\n",
    "list=[1,2,3,4]\n",
    "list.append(10)\n",
    "print(list)"
   ]
  },
  {
   "cell_type": "code",
   "execution_count": 99,
   "id": "c3758d33",
   "metadata": {},
   "outputs": [
    {
     "name": "stdout",
     "output_type": "stream",
     "text": [
      "[1, 2, 4, 5]\n"
     ]
    }
   ],
   "source": [
    "#Write a code to remove the number 3 from the list [1, 2, 3, 4, 5]\n",
    "\n",
    "list=[1,2,3,4,5]\n",
    "list.remove(3)\n",
    "print(list)"
   ]
  },
  {
   "cell_type": "code",
   "execution_count": 100,
   "id": "398909a0",
   "metadata": {},
   "outputs": [
    {
     "name": "stdout",
     "output_type": "stream",
     "text": [
      "b\n"
     ]
    }
   ],
   "source": [
    "# Write a code to access the second element in the list ['a', 'b', 'c', 'd']\n",
    "\n",
    "list=['a','b','c','d']\n",
    "print(list[1])"
   ]
  },
  {
   "cell_type": "code",
   "execution_count": 101,
   "id": "e7333b2e",
   "metadata": {},
   "outputs": [
    {
     "name": "stdout",
     "output_type": "stream",
     "text": [
      "[50, 40, 30, 20, 10]\n"
     ]
    }
   ],
   "source": [
    "#Write a code to reverse the list [10, 20, 30, 40, 50].\n",
    "old_list=[10,20,30,40,50]\n",
    "old_list.reverse()\n",
    "print(old_list)"
   ]
  },
  {
   "cell_type": "code",
   "execution_count": 102,
   "id": "eb415507",
   "metadata": {},
   "outputs": [
    {
     "name": "stdout",
     "output_type": "stream",
     "text": [
      "(100, 200, 300)\n"
     ]
    }
   ],
   "source": [
    "#Write a code to create a tuple with the elements 100, 200, 300 and print it.\n",
    "\n",
    "tuple=(100,200,300)\n",
    "print(tuple)"
   ]
  },
  {
   "cell_type": "code",
   "execution_count": 103,
   "id": "3024e3f7",
   "metadata": {},
   "outputs": [
    {
     "name": "stdout",
     "output_type": "stream",
     "text": [
      "blue\n"
     ]
    }
   ],
   "source": [
    "#Write a code to access the second-to-last element of the tuple ('red', 'green', 'blue', 'yellow').\n",
    "tuple=('red', 'green', 'blue', 'yellow')\n",
    "print(tuple[-2])\n"
   ]
  },
  {
   "cell_type": "code",
   "execution_count": 104,
   "id": "272064e0",
   "metadata": {},
   "outputs": [
    {
     "name": "stdout",
     "output_type": "stream",
     "text": [
      "the minimum number is:5\n"
     ]
    }
   ],
   "source": [
    "#Write a code to find the minimum number in the tuple (10, 20, 5, 15).\n",
    "\n",
    "tuple=(10,20,5,15)\n",
    "minimum_number=min(tuple)\n",
    "print(f\"the minimum number is:{minimum_number}\")\n"
   ]
  },
  {
   "cell_type": "code",
   "execution_count": 105,
   "id": "2b3f051c",
   "metadata": {},
   "outputs": [
    {
     "name": "stdout",
     "output_type": "stream",
     "text": [
      "1\n"
     ]
    }
   ],
   "source": [
    "#Write a code to find the index of the element \"cat\" in the tuple ('dog', 'cat', 'rabbit').\n",
    "tuple = ('dog', 'cat', 'rabbit')\n",
    "print(tuple.index('cat'))"
   ]
  },
  {
   "cell_type": "code",
   "execution_count": 106,
   "id": "b6a80451",
   "metadata": {},
   "outputs": [
    {
     "name": "stdout",
     "output_type": "stream",
     "text": [
      "kiwi is available in tuple\n"
     ]
    }
   ],
   "source": [
    "#Write a code to create a tuple containing three different fruits and check if \"kiwi\" is in it.\n",
    "\n",
    "fruits=('kiwi','apple','banana')\n",
    "if 'kiwi' in fruits:\n",
    "    print(\"kiwi is available in tuple\")\n",
    "else:\n",
    "    print(\"kiwi not available\")\n"
   ]
  },
  {
   "cell_type": "code",
   "execution_count": 107,
   "id": "72224272",
   "metadata": {},
   "outputs": [
    {
     "name": "stdout",
     "output_type": "stream",
     "text": [
      "{'a', 'b', 'c'}\n"
     ]
    }
   ],
   "source": [
    "#Write a code to create a set with the elements 'a', 'b', 'c' and print it.\n",
    "set1={'a','b','c'}\n",
    "print(set1)\n",
    "\n"
   ]
  },
  {
   "cell_type": "code",
   "execution_count": 108,
   "id": "5e90e745",
   "metadata": {},
   "outputs": [
    {
     "name": "stdout",
     "output_type": "stream",
     "text": [
      "set()\n"
     ]
    }
   ],
   "source": [
    "# Write a code to clear all elements from the set {1, 2, 3, 4, 5}.\n",
    "set={1,2,3,4,5}\n",
    "set.clear()\n",
    "print(set)"
   ]
  },
  {
   "cell_type": "code",
   "execution_count": 109,
   "id": "e6b70060",
   "metadata": {},
   "outputs": [
    {
     "name": "stdout",
     "output_type": "stream",
     "text": [
      "{1, 2, 3}\n"
     ]
    }
   ],
   "source": [
    "#Write a code to remove the element 4 from the set {1, 2, 3, 4}.\n",
    "set={1,2,3,4}\n",
    "set.remove(4)\n",
    "print(set)"
   ]
  },
  {
   "cell_type": "code",
   "execution_count": 110,
   "id": "5cee3446",
   "metadata": {},
   "outputs": [
    {
     "name": "stdout",
     "output_type": "stream",
     "text": [
      "{1, 2, 3, 4, 5}\n"
     ]
    }
   ],
   "source": [
    "#Write a code to find the union of two sets {1, 2, 3} and {3, 4, 5}.\n",
    "set1={1,2,3}\n",
    "set2={3,4,5}\n",
    "a=set1\n",
    "b=set2\n",
    "result=a.union(b)\n",
    "print(result)"
   ]
  },
  {
   "cell_type": "code",
   "execution_count": 111,
   "id": "0a97f167",
   "metadata": {},
   "outputs": [
    {
     "name": "stdout",
     "output_type": "stream",
     "text": [
      "{1, 2, 3, 4, 5, 6}\n"
     ]
    }
   ],
   "source": [
    "# Write a code to find the intersection of two sets {1, 2, 3} and {2, 3, 4}.\n",
    "set1={1,2,3}\n",
    "set2={4,5,6}\n",
    "a=set1\n",
    "b=set2\n",
    "result=a.symmetric_difference(b)\n",
    "print(result)"
   ]
  },
  {
   "cell_type": "code",
   "execution_count": 112,
   "id": "d5366abd",
   "metadata": {},
   "outputs": [
    {
     "name": "stdout",
     "output_type": "stream",
     "text": [
      "{'name': 'Ruchika', 'age': 30, 'city': 'Surat'}\n"
     ]
    }
   ],
   "source": [
    "# Write a code to create a dictionary with the keys \"name\", \"age\", and \"city\", and print it.\n",
    "person_info = {\n",
    "    \"name\": \"Ruchika\",\n",
    "    \"age\": 30,\n",
    "    \"city\": \"Surat\"\n",
    "}\n",
    "print(person_info)\n",
    "\n"
   ]
  },
  {
   "cell_type": "code",
   "execution_count": 113,
   "id": "f9dce559",
   "metadata": {},
   "outputs": [
    {
     "name": "stdout",
     "output_type": "stream",
     "text": [
      "{'name': 'John', 'age': 25, 'country': 'USA'}\n"
     ]
    }
   ],
   "source": [
    "# Write a code to add a new key-value pair \"country\": \"USA\" to the dictionary {'name': 'John', 'age': 25}.\n",
    "country={'name': 'John', 'age': 25,'country':\"USA\"}\n",
    "print(country)"
   ]
  },
  {
   "cell_type": "code",
   "execution_count": 114,
   "id": "c1677240",
   "metadata": {},
   "outputs": [
    {
     "name": "stdout",
     "output_type": "stream",
     "text": [
      "alice\n"
     ]
    }
   ],
   "source": [
    "# Write a code to access the value associated with the key \"name\" in the dictionary {'name': 'Alice', 'age': 30}.\n",
    "my_dict={'name':'alice','age':30,}\n",
    "name_value=my_dict['name']\n",
    "print(name_value)\n"
   ]
  },
  {
   "cell_type": "code",
   "execution_count": 115,
   "id": "c1450698",
   "metadata": {},
   "outputs": [
    {
     "name": "stdout",
     "output_type": "stream",
     "text": [
      "{'name': 'Bob', 'city': 'New York'}\n"
     ]
    }
   ],
   "source": [
    "#Write a code to remove the key \"age\" from the dictionary {'name': 'Bob', 'age': 22, 'city': 'New York'}.\n",
    "my_dict={'name': 'Bob', 'age': 22, 'city': 'New York'}\n",
    "del my_dict['age']\n",
    "print(my_dict)"
   ]
  },
  {
   "cell_type": "code",
   "execution_count": 116,
   "id": "173cea8f",
   "metadata": {},
   "outputs": [
    {
     "name": "stdout",
     "output_type": "stream",
     "text": [
      "the key 'city' exists in the dictionary\n"
     ]
    }
   ],
   "source": [
    "# Write a code to check if the key \"city\" exists in the dictionary {'name': 'Alice', 'city': 'Paris'}.\n",
    "my_dcit={'name':'Alice','city':'paris'}\n",
    "if 'city' in my_dict:\n",
    "    print(\"the key 'city' exists in the dictionary\")\n",
    "else:\n",
    "    print(\"the key 'city' does not exist in dictionary\")\n"
   ]
  },
  {
   "cell_type": "code",
   "execution_count": 117,
   "id": "cfddbba3",
   "metadata": {},
   "outputs": [
    {
     "name": "stdout",
     "output_type": "stream",
     "text": [
      "[10, 20, 30, 40, 50] (10, 20, 30, 40, 50) {'ten': 10, 'twenty': 20, 'thirty': 30, 'fourty': 40, 'fifty': 50}\n"
     ]
    }
   ],
   "source": [
    "#Write a code to create a list, a tuple, and a dictionary, and print them all.\n",
    "my_list=[10,20,30,40,50]\n",
    "my_tuple=(10,20,30,40,50)\n",
    "my_dict={\"ten\":10,\"twenty\":20,\"thirty\":30,\"fourty\":40,\"fifty\":50}\n",
    "print(my_list,my_tuple,my_dict)\n"
   ]
  },
  {
   "cell_type": "code",
   "execution_count": 118,
   "id": "050fcebc",
   "metadata": {},
   "outputs": [
    {
     "name": "stdout",
     "output_type": "stream",
     "text": [
      "[10, 14, 40, 42, 61]\n"
     ]
    }
   ],
   "source": [
    "# Write a code to create a list of 5 random numbers between 1 and 100, sort it in ascending order, and print the result.(replaced)\n",
    "import random\n",
    "random_number = []\n",
    "for i in range(5):\n",
    "    number=random.randint(1,100)\n",
    "    random_number.append(number)\n",
    "random_number.sort()\n",
    "print(random_number)\n",
    "\n",
    "\n"
   ]
  },
  {
   "cell_type": "code",
   "execution_count": 119,
   "id": "f6aad532",
   "metadata": {},
   "outputs": [
    {
     "name": "stdout",
     "output_type": "stream",
     "text": [
      "peach\n"
     ]
    }
   ],
   "source": [
    "# Write a code to create a list with strings and print the element at the third index.\n",
    "fruits_list=['kiwi','apple','orange','peach','mango']\n",
    "print(fruits_list[3])"
   ]
  },
  {
   "cell_type": "code",
   "execution_count": 120,
   "id": "edae0ae1",
   "metadata": {},
   "outputs": [
    {
     "name": "stdout",
     "output_type": "stream",
     "text": [
      "{'name': 'ruchika', 'country': 'US', 'nationality': 'US'}\n"
     ]
    }
   ],
   "source": [
    "# Write a code to combine two dictionaries into one and print the result.\n",
    "dict1={'name':'ruchika','country':'US'}\n",
    "dict2={'nationality':'US'}\n",
    "result=dict1|dict2\n",
    "print(result)"
   ]
  },
  {
   "cell_type": "code",
   "execution_count": 1,
   "id": "f4103461",
   "metadata": {},
   "outputs": [
    {
     "name": "stdout",
     "output_type": "stream",
     "text": [
      "{'apple', 'orange', 'banana', 'grape'}\n"
     ]
    }
   ],
   "source": [
    "my_list_of_strings = [\"apple\", \"banana\", \"orange\", \"apple\", \"grape\"]\n",
    "my_set_of_strings = set(my_list_of_strings)\n",
    "print(my_set_of_strings)"
   ]
  },
  {
   "cell_type": "code",
   "execution_count": null,
   "id": "f1d7272c",
   "metadata": {},
   "outputs": [],
   "source": [
    "\"\"\"\"\n",
    "\n",
    "Question and answer\n",
    "\n",
    "1.What are data structures, and why are they important?\n",
    "  Data structured are a way of organizing and stroing the data in computer so that it can be accessed and modified efficiently\n",
    "  data structured are important due to below points\n",
    "  1.efficiency - if you choose correct data structure you can improve the performance of algorithms.\n",
    "  2.organization and maintaince: they provide clean and logical way to manage large amount  of data\n",
    "  3.problem solving - they are essential tool for the solving complex problems\n",
    "  4.foundation of alogorithms:many algorithms are top of specific data structures.\n",
    "\n",
    "2. Explain the difference between mutable and immutable data types with examples.\n",
    "mutable data types we can modified after they are created this means you can add ,remove or change the elements\n",
    "but in immutable data types cannot be changed after they are created\n",
    "mutable data types are list,dict and set and immutable data type are tuple,string etc\n",
    "\n",
    "3. What are the main differences between lists and tuples in Python?\n",
    "\n",
    "The main differences between lists and tuples in Python center around their mutability,\n",
    "performance characteristics, and typical use cases.lists are mutable but tuple is immutable\n",
    "\n",
    "4. Describe how dictionaries store data\n",
    "\n",
    "Dictionaries, in programming contexts like Python, store data as a collection of key-value pairs. \n",
    "This means that each piece of data (the \"value\") is associated with a unique identifier (the \"key\").\n",
    "ex-my_dict={\"ten\":10,\"twenty\":20,\"thirty\":30,\"fourty\":40,\"fifty\":50}\n",
    "\n",
    "5. Why might you use a set instead of a list in Python?\n",
    "A List allows duplicate elements and maintains insertion order, while a Set does not\n",
    "allow duplicates and may not preserve order\n",
    "\n",
    "6. What is a string in Python, and how is it different from a list\n",
    "\n",
    "In Python, a string is an immutable sequence of characters, used to represent textual data. \n",
    "Strings are enclosed in single quotes ('...'), double quotes (\"...\"), or triple quotes ('''...''' or \"\"\"..\"\"\")\n",
    "for multiline strings.\n",
    "\n",
    " 7. How do tuples ensure data integrity in Python?\n",
    "  Tuples in Python ensure data integrity primarily through their immutability. \n",
    "  This means that once a tuple is created, its elements cannot be changed, added, or removed. \n",
    "\n",
    "\n",
    "8.What is a hash table, and how does it relate to dictionaries in Python?\n",
    "\n",
    "A hash table, also known as a hash map or associative array, is a data structure that stores key-value pairs. \n",
    "It uses a hash function to map keys to indices in an internal array, allowing for efficient retrieval, insertion, and deletion of data.\n",
    "\n",
    "9 Can lists contain different data types in Python?\n",
    "\n",
    "Yes, lists in Python can contain different data types. This is a key feature of Python lists, making them highly versatile for storing collections of diverse data.\n",
    "For example, a single Python list can contain integers, strings, floats, booleans, and even other lists or complex objects like dictionaries.\n",
    "\n",
    "10 Explain why strings are immutable in Python?\n",
    "\n",
    "Strings are immutable in Python, meaning their content cannot be changed after creation. This design choice provides several benefits:\n",
    "Memory Efficiency and Sharing\n",
    "Thread Safety:\n",
    "Hashability and Dictionary Keys\n",
    "Predictability and Reduced Bugs\n",
    "\n",
    "11 What advantages do dictionaries offer over lists for certain tasks?\n",
    " Dictionaries offer advantages over lists for tasks requiring fast, key-based lookups, grouping related data, and \n",
    " flexible data structures, as dictionaries store data as key-value pairs allowing for O(1) average-time complexity for searches,\n",
    "   unlike lists which have O(n) complexity for searching by value. Dictionaries also improve code readability by clearly defining \n",
    "   relationships between data elements and can store complex, nested data, making them ideal for scenarios where data needs to be retrieved \n",
    "   or identified by a unique identifier rather than an index. \n",
    "\n",
    "12 Describe a scenario where using a tuple would be preferable over a list?\n",
    "\n",
    "A scenario where using a tuple would be preferable over a list is when representing data that should remain constant and unchanged throughout the program's execution, such as geographic coordinates or RGB color values.preferable\n",
    "Consider a program that needs to store and process a collection of fixed geographical locations, each represented by a latitude and longitude.\n",
    "\n",
    "13 How do sets handle duplicate values in Python?\n",
    "\n",
    "Python sets fundamentally do not allow duplicate values. This is a core characteristic of the set data structure, mirroring the mathematical concept of a set.\n",
    "When attempting to add an element that already exists in a set, the set will simply ignore the addition; it will not raise an error, nor will it add a second instance of the element. The set will remain unchanged.\n",
    "\n",
    "14 How does the “in” keyword work differently for lists and dictionaries?\n",
    "\n",
    "The in keyword in Python is used for membership testing, but its behavior differs for lists and dictionaries due to their underlying data structures and how elements are accessed.\n",
    "For Lists:\n",
    "When used with a list, the in keyword checks if a specific value exists as an element within the list. It performs a linear search, iterating through each element of the list until a match is found or the end of the list is reached.\n",
    "\n",
    "For Dictionaries:\n",
    "When used with a dictionary, the in keyword checks for the existence of a specific key within the dictionary. It does not directly check for the presence of values. Dictionaries are optimized for fast key lookups using hashing, making this operation very efficient.\n",
    "\n",
    "15. Can you modify the elements of a tuple? Explain why or why not?\n",
    "\n",
    "No, the elements of a tuple cannot be modified directly after the tuple has been created. This is because tuples are immutable data structures in Python.\n",
    "\n",
    "`16 What is a nested dictionary, and give an example of its use case?\n",
    " A nested dictionary is a dictionary where the values associated with some keys are themselves other dictionaries. This structure allows for the representation of hierarchical or complex data, where information is organized in a layered fashion. \n",
    "\n",
    "`17 Describe the time complexity of accessing elements in a dictionary\n",
    "\n",
    "Accessing elements in a dictionary, or hash map, generally has an average time complexity of O(1), which stands for constant time. This means that, on average, the time it takes to retrieve a value using its key does not significantly increase with the size of the dictionary.\n",
    "\n",
    "18.In what situations are lists preferred over dictionaries?\n",
    " Lists are preferred over dictionaries when you need an ordered, sequential collection of items where the position of each item is important, such as storing a sequence of user actions or a series of steps in a process. Other situations include when you are working with data that doesn't have a unique identifier for each item or when you need to quickly access elements by their numerical index (position) rather than a custom key. \n",
    "\n",
    "19 Why are dictionaries considered unordered, and how does that affect data retrieval?\n",
    " Dictionaries are considered \"unordered\" because they do not guarantee a specific, predictable sequence for their elements, and instead, they are optimized for fast retrieval of values based on their associated keys, not their position. This fundamental characteristic means that data retrieval relies entirely on key-based access; you must know the key to find its value. This contrasts with ordered collections like lists, where elements can be accessed by their numerical index. \n",
    "\n",
    "20 Explain the difference between a list and a dictionary in terms of data retrieval.\n",
    "\n",
    "The fundamental difference between a list and a dictionary, in terms of data retrieval, lies in their underlying organization and the method used to locate elements:\n",
    "\n",
    "    Lists (Indexed Retrieval):\n",
    "        Lists are ordered collections where elements are stored in a specific sequence.\n",
    "        Data retrieval relies on integer-based indexing, starting from 0 for the first element.\n",
    "        To access an element, its numerical position (index) within the list is specified.\n",
    "        Retrieval time can be linear (O(n)) in the worst case for searching for a specific value, as the list might need to be traversed sequentially. Accessing an element by its index is typically constant time (O(1)).\n",
    "\n",
    "\"\"\"\"\n"
   ]
  }
 ],
 "metadata": {
  "kernelspec": {
   "display_name": "Python 3",
   "language": "python",
   "name": "python3"
  },
  "language_info": {
   "codemirror_mode": {
    "name": "ipython",
    "version": 3
   },
   "file_extension": ".py",
   "mimetype": "text/x-python",
   "name": "python",
   "nbconvert_exporter": "python",
   "pygments_lexer": "ipython3",
   "version": "3.13.7"
  }
 },
 "nbformat": 4,
 "nbformat_minor": 5
}
